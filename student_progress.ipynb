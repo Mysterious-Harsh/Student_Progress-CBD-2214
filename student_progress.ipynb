{
 "cells": [
  {
   "cell_type": "code",
   "execution_count": 91,
   "metadata": {},
   "outputs": [],
   "source": [
    "import pandas as pd\n",
    "from sklearn.linear_model import LinearRegression\n",
    "from sklearn.neighbors import KNeighborsRegressor\n",
    "from sklearn.preprocessing import OneHotEncoder, LabelEncoder,StandardScaler\n",
    "from sklearn.model_selection import train_test_split\n",
    "import matplotlib.pyplot as plt"
   ]
  },
  {
   "cell_type": "code",
   "execution_count": 92,
   "metadata": {},
   "outputs": [
    {
     "name": "stdout",
     "output_type": "stream",
     "text": [
      "  school sex  age address famsize Pstatus  Medu  Fedu     Mjob      Fjob  ...  \\\n",
      "0     GP   F   18       U     GT3       A     4     4  at_home   teacher  ...   \n",
      "1     GP   F   17       U     GT3       T     1     1  at_home     other  ...   \n",
      "2     GP   F   15       U     LE3       T     1     1  at_home     other  ...   \n",
      "3     GP   F   15       U     GT3       T     4     2   health  services  ...   \n",
      "4     GP   F   16       U     GT3       T     3     3    other     other  ...   \n",
      "\n",
      "  famrel freetime  goout  Dalc  Walc health absences  G1  G2  G3  \n",
      "0      4        3      4     1     1      3        4   0  11  11  \n",
      "1      5        3      3     1     1      3        2   9  11  11  \n",
      "2      4        3      2     2     3      3        6  12  13  12  \n",
      "3      3        2      2     1     1      5        0  14  14  14  \n",
      "4      4        3      2     1     2      5        0  11  13  13  \n",
      "\n",
      "[5 rows x 33 columns]\n",
      "(649, 33)\n",
      "<class 'pandas.core.frame.DataFrame'>\n",
      "RangeIndex: 649 entries, 0 to 648\n",
      "Data columns (total 33 columns):\n",
      " #   Column      Non-Null Count  Dtype \n",
      "---  ------      --------------  ----- \n",
      " 0   school      649 non-null    object\n",
      " 1   sex         649 non-null    object\n",
      " 2   age         649 non-null    int64 \n",
      " 3   address     649 non-null    object\n",
      " 4   famsize     649 non-null    object\n",
      " 5   Pstatus     649 non-null    object\n",
      " 6   Medu        649 non-null    int64 \n",
      " 7   Fedu        649 non-null    int64 \n",
      " 8   Mjob        649 non-null    object\n",
      " 9   Fjob        649 non-null    object\n",
      " 10  reason      649 non-null    object\n",
      " 11  guardian    649 non-null    object\n",
      " 12  traveltime  649 non-null    int64 \n",
      " 13  studytime   649 non-null    int64 \n",
      " 14  failures    649 non-null    int64 \n",
      " 15  schoolsup   649 non-null    object\n",
      " 16  famsup      649 non-null    object\n",
      " 17  paid        649 non-null    object\n",
      " 18  activities  649 non-null    object\n",
      " 19  nursery     649 non-null    object\n",
      " 20  higher      649 non-null    object\n",
      " 21  internet    649 non-null    object\n",
      " 22  romantic    649 non-null    object\n",
      " 23  famrel      649 non-null    int64 \n",
      " 24  freetime    649 non-null    int64 \n",
      " 25  goout       649 non-null    int64 \n",
      " 26  Dalc        649 non-null    int64 \n",
      " 27  Walc        649 non-null    int64 \n",
      " 28  health      649 non-null    int64 \n",
      " 29  absences    649 non-null    int64 \n",
      " 30  G1          649 non-null    int64 \n",
      " 31  G2          649 non-null    int64 \n",
      " 32  G3          649 non-null    int64 \n",
      "dtypes: int64(16), object(17)\n",
      "memory usage: 167.4+ KB\n",
      "None\n"
     ]
    }
   ],
   "source": [
    "data = pd.read_csv(\"student-por.csv\")\n",
    "print(data.head())\n",
    "print(data.shape)\n",
    "print(data.info())"
   ]
  },
  {
   "cell_type": "code",
   "execution_count": 93,
   "metadata": {},
   "outputs": [
    {
     "name": "stdout",
     "output_type": "stream",
     "text": [
      "   school  sex  age  address  famsize  Pstatus  Medu  Fedu  Mjob  Fjob  ...  \\\n",
      "0       0    0   18        1        0        0     4     4     0     4  ...   \n",
      "1       0    0   17        1        0        1     1     1     0     2  ...   \n",
      "2       0    0   15        1        1        1     1     1     0     2  ...   \n",
      "3       0    0   15        1        0        1     4     2     1     3  ...   \n",
      "4       0    0   16        1        0        1     3     3     2     2  ...   \n",
      "\n",
      "   famrel  freetime  goout  Dalc  Walc  health  absences  G1  G2  G3  \n",
      "0       4         3      4     1     1       3         4   0  11  11  \n",
      "1       5         3      3     1     1       3         2   9  11  11  \n",
      "2       4         3      2     2     3       3         6  12  13  12  \n",
      "3       3         2      2     1     1       5         0  14  14  14  \n",
      "4       4         3      2     1     2       5         0  11  13  13  \n",
      "\n",
      "[5 rows x 33 columns]\n",
      "Index(['school', 'sex', 'age', 'address', 'famsize', 'Pstatus', 'Medu', 'Fedu',\n",
      "       'Mjob', 'Fjob', 'reason', 'guardian', 'traveltime', 'studytime',\n",
      "       'failures', 'schoolsup', 'famsup', 'paid', 'activities', 'nursery',\n",
      "       'higher', 'internet', 'romantic', 'famrel', 'freetime', 'goout', 'Dalc',\n",
      "       'Walc', 'health', 'absences', 'G1', 'G2', 'G3'],\n",
      "      dtype='object')\n"
     ]
    }
   ],
   "source": [
    "columns_object = list(data.select_dtypes(['object']))\n",
    "le = LabelEncoder()\n",
    "data[ columns_object ] = data[ columns_object ].apply( lambda col: le.fit_transform( col ) )\n",
    "print(data.head())\n",
    "print(data.columns)"
   ]
  },
  {
   "cell_type": "code",
   "execution_count": 94,
   "metadata": {},
   "outputs": [
    {
     "data": {
      "text/html": [
       "<div>\n",
       "<style scoped>\n",
       "    .dataframe tbody tr th:only-of-type {\n",
       "        vertical-align: middle;\n",
       "    }\n",
       "\n",
       "    .dataframe tbody tr th {\n",
       "        vertical-align: top;\n",
       "    }\n",
       "\n",
       "    .dataframe thead th {\n",
       "        text-align: right;\n",
       "    }\n",
       "</style>\n",
       "<table border=\"1\" class=\"dataframe\">\n",
       "  <thead>\n",
       "    <tr style=\"text-align: right;\">\n",
       "      <th></th>\n",
       "      <th>school</th>\n",
       "      <th>sex</th>\n",
       "      <th>age</th>\n",
       "      <th>Medu</th>\n",
       "      <th>Fedu</th>\n",
       "      <th>failures</th>\n",
       "      <th>Walc</th>\n",
       "      <th>G1</th>\n",
       "      <th>G2</th>\n",
       "      <th>G3</th>\n",
       "    </tr>\n",
       "  </thead>\n",
       "  <tbody>\n",
       "    <tr>\n",
       "      <th>0</th>\n",
       "      <td>0</td>\n",
       "      <td>0</td>\n",
       "      <td>18</td>\n",
       "      <td>4</td>\n",
       "      <td>4</td>\n",
       "      <td>0</td>\n",
       "      <td>1</td>\n",
       "      <td>0</td>\n",
       "      <td>11</td>\n",
       "      <td>11</td>\n",
       "    </tr>\n",
       "    <tr>\n",
       "      <th>1</th>\n",
       "      <td>0</td>\n",
       "      <td>0</td>\n",
       "      <td>17</td>\n",
       "      <td>1</td>\n",
       "      <td>1</td>\n",
       "      <td>0</td>\n",
       "      <td>1</td>\n",
       "      <td>9</td>\n",
       "      <td>11</td>\n",
       "      <td>11</td>\n",
       "    </tr>\n",
       "    <tr>\n",
       "      <th>2</th>\n",
       "      <td>0</td>\n",
       "      <td>0</td>\n",
       "      <td>15</td>\n",
       "      <td>1</td>\n",
       "      <td>1</td>\n",
       "      <td>0</td>\n",
       "      <td>3</td>\n",
       "      <td>12</td>\n",
       "      <td>13</td>\n",
       "      <td>12</td>\n",
       "    </tr>\n",
       "    <tr>\n",
       "      <th>3</th>\n",
       "      <td>0</td>\n",
       "      <td>0</td>\n",
       "      <td>15</td>\n",
       "      <td>4</td>\n",
       "      <td>2</td>\n",
       "      <td>0</td>\n",
       "      <td>1</td>\n",
       "      <td>14</td>\n",
       "      <td>14</td>\n",
       "      <td>14</td>\n",
       "    </tr>\n",
       "    <tr>\n",
       "      <th>4</th>\n",
       "      <td>0</td>\n",
       "      <td>0</td>\n",
       "      <td>16</td>\n",
       "      <td>3</td>\n",
       "      <td>3</td>\n",
       "      <td>0</td>\n",
       "      <td>2</td>\n",
       "      <td>11</td>\n",
       "      <td>13</td>\n",
       "      <td>13</td>\n",
       "    </tr>\n",
       "  </tbody>\n",
       "</table>\n",
       "</div>"
      ],
      "text/plain": [
       "   school  sex  age  Medu  Fedu  failures  Walc  G1  G2  G3\n",
       "0       0    0   18     4     4         0     1   0  11  11\n",
       "1       0    0   17     1     1         0     1   9  11  11\n",
       "2       0    0   15     1     1         0     3  12  13  12\n",
       "3       0    0   15     4     2         0     1  14  14  14\n",
       "4       0    0   16     3     3         0     2  11  13  13"
      ]
     },
     "execution_count": 94,
     "metadata": {},
     "output_type": "execute_result"
    }
   ],
   "source": [
    "df = data[['school','sex','age','Medu','Fedu','failures','Walc','G1','G2','G3']]\n",
    "df.head()"
   ]
  },
  {
   "cell_type": "code",
   "execution_count": 95,
   "metadata": {},
   "outputs": [
    {
     "data": {
      "text/plain": [
       "(   G1  G2  G3\n",
       " 0   0  11  11\n",
       " 1   9  11  11\n",
       " 2  12  13  12\n",
       " 3  14  14  14\n",
       " 4  11  13  13,\n",
       "    school  sex  age  Medu  Fedu  failures  Walc\n",
       " 0       0    0   18     4     4         0     1\n",
       " 1       0    0   17     1     1         0     1\n",
       " 2       0    0   15     1     1         0     3\n",
       " 3       0    0   15     4     2         0     1\n",
       " 4       0    0   16     3     3         0     2)"
      ]
     },
     "execution_count": 95,
     "metadata": {},
     "output_type": "execute_result"
    }
   ],
   "source": [
    "Y = df[['G1','G2','G3']]\n",
    "X = df.drop(['G1','G2','G3'],axis=1)\n",
    "Y.head(),X.head()"
   ]
  },
  {
   "cell_type": "code",
   "execution_count": 96,
   "metadata": {},
   "outputs": [],
   "source": [
    "X_train, X_test, y_train, y_test = train_test_split( X, Y, test_size=0.2, random_state=20 )\n",
    "scaler = StandardScaler()\n",
    "X_train = scaler.fit_transform( X_train )\n",
    "X_test = scaler.transform( X_test )\n"
   ]
  },
  {
   "cell_type": "code",
   "execution_count": 97,
   "metadata": {},
   "outputs": [
    {
     "data": {
      "text/plain": [
       "LinearRegression()"
      ]
     },
     "execution_count": 97,
     "metadata": {},
     "output_type": "execute_result"
    }
   ],
   "source": [
    "model = LinearRegression()\n",
    "model.fit(X_train,y_train)"
   ]
  },
  {
   "cell_type": "code",
   "execution_count": 98,
   "metadata": {},
   "outputs": [
    {
     "data": {
      "text/plain": [
       "(array([[10.71289173, 10.57020335, 10.60779584],\n",
       "        [11.23009972, 11.16881606, 11.5174965 ],\n",
       "        [12.5843274 , 12.83275788, 13.0934383 ],\n",
       "        [10.68778142, 10.80455021, 10.99280821],\n",
       "        [11.17354103, 11.58855405, 11.83304083],\n",
       "        [ 7.75021859,  7.13685354,  6.72897435],\n",
       "        [12.56338113, 12.8104877 , 13.10452256],\n",
       "        [11.49041753, 11.78175775, 12.39380694],\n",
       "        [11.85438036, 12.61753074, 12.89121186],\n",
       "        [11.44178157, 11.71360313, 11.96535974],\n",
       "        [11.91035361, 12.24406123, 12.44661318],\n",
       "        [12.88550941, 13.16412756, 13.79628481],\n",
       "        [12.57388325, 12.6028264 , 13.18507484],\n",
       "        [ 9.75266292, 10.29867608, 10.27022343],\n",
       "        [13.23377632, 13.60953292, 14.25433012],\n",
       "        [11.68590906, 12.30192877, 12.5713177 ],\n",
       "        [ 9.70408494,  9.79292868, 10.01396505],\n",
       "        [11.93637012, 11.91916096, 12.25216605],\n",
       "        [12.50597422, 12.88318632, 13.40169048],\n",
       "        [11.50866877, 11.40767048, 11.56088569],\n",
       "        [13.26880331, 13.21379323, 13.8208157 ],\n",
       "        [13.17469622, 13.31144682, 13.91751946],\n",
       "        [12.15031059, 12.78846427, 13.46306223],\n",
       "        [12.39611322, 13.02806506, 13.28684581],\n",
       "        [ 8.23474594,  8.64196306,  8.37362244],\n",
       "        [12.83162167, 12.93553679, 13.23684146],\n",
       "        [11.13205888, 11.29067825, 11.6333417 ],\n",
       "        [ 9.0208413 ,  8.69078765,  8.48217219],\n",
       "        [13.24785704, 13.19152305, 13.83189996],\n",
       "        [12.16439131, 12.3704544 , 13.04063206],\n",
       "        [12.33327298, 12.43272093, 13.13865858],\n",
       "        [ 8.29071919,  8.26849354,  7.92902376],\n",
       "        [12.50430104, 12.51240161, 12.76771189],\n",
       "        [12.37206011, 12.33423928, 12.51652072],\n",
       "        [12.49022031, 12.93041147, 13.19014205],\n",
       "        [11.83032725, 11.92370495, 12.12088677],\n",
       "        [11.15825693, 11.47338458, 11.75325358],\n",
       "        [11.72888286, 12.46298268, 13.09063641],\n",
       "        [11.36175521, 11.39324686, 11.63963332],\n",
       "        [12.12625748, 12.09463848, 12.69273714],\n",
       "        [10.62386136, 10.62122612, 10.48457375],\n",
       "        [12.43263185, 12.49550349, 13.17295096],\n",
       "        [11.30053017, 11.60628022, 11.95323586],\n",
       "        [10.31610255, 10.89227907, 11.13474946],\n",
       "        [10.16382157, 10.60129316, 11.08520778],\n",
       "        [12.12476584, 12.23146037, 12.37311756],\n",
       "        [10.8847646 , 11.18789934, 11.48993854],\n",
       "        [13.15374995, 13.28917664, 13.92860371],\n",
       "        [11.27856206, 11.55843731, 11.77646172],\n",
       "        [ 8.12910697,  8.09263199,  8.05703848],\n",
       "        [11.8041292 , 11.74099863, 12.00097488],\n",
       "        [12.52673894, 12.3978499 , 13.07624721],\n",
       "        [12.90645568, 13.18639773, 13.78520055],\n",
       "        [12.00595234, 12.00958575, 12.66952901],\n",
       "        [11.13205888, 11.29067825, 11.6333417 ],\n",
       "        [10.9438447 , 11.48598544, 11.82674921],\n",
       "        [11.08342292, 11.22252364, 11.20489449],\n",
       "        [12.34753524, 12.52231767, 13.03058742],\n",
       "        [11.93637012, 11.91916096, 12.25216605],\n",
       "        [12.79140233, 13.26178115, 13.89298856],\n",
       "        [12.65390962, 12.92318267, 13.51080125],\n",
       "        [12.00971248, 12.30684378, 12.48090557],\n",
       "        [12.94148267, 12.79065804, 13.35168613],\n",
       "        [12.39611322, 13.02806506, 13.28684581],\n",
       "        [11.86904652, 12.1532524 , 12.59783604],\n",
       "        [10.71063115, 10.96519666, 11.26091588],\n",
       "        [ 9.54039563,  9.80015748,  9.69330585],\n",
       "        [11.36741737, 11.30034757, 11.54876182],\n",
       "        [12.78615054, 13.101345  , 13.76199242],\n",
       "        [12.22561635, 12.15742104, 12.72702953],\n",
       "        [12.9796165 , 13.06647396, 13.69958106],\n",
       "        [11.78318294, 11.71872845, 12.01205914],\n",
       "        [ 8.46109395,  8.72247179,  8.52810985],\n",
       "        [13.42199049, 13.41422573, 14.06092262],\n",
       "        [12.47977617, 12.70047999, 13.28177859],\n",
       "        [11.8632093 , 12.03908473, 12.33778555],\n",
       "        [11.87412324, 12.10662158, 12.37791019],\n",
       "        [12.9796165 , 13.06647396, 13.69958106],\n",
       "        [11.38795326, 11.57595319, 11.75954521],\n",
       "        [13.07372359, 12.96882037, 13.6028773 ],\n",
       "        [10.80849046, 10.33572787, 10.83071167],\n",
       "        [11.86846108, 12.19952087, 12.46878169],\n",
       "        [11.24872743, 12.02367233, 11.98734346],\n",
       "        [11.73622016, 12.02135855, 12.21759052],\n",
       "        [11.39147048, 11.99417336, 12.31908691],\n",
       "        [12.02379321, 11.88883392, 12.0584754 ],\n",
       "        [10.98412348, 11.2506819 , 11.52423093],\n",
       "        [12.69418839, 12.68787913, 13.20828297],\n",
       "        [10.38850287, 10.61155681, 10.56915363],\n",
       "        [12.15913953, 12.21001825, 12.90963592],\n",
       "        [13.24785704, 13.19152305, 13.83189996],\n",
       "        [12.61201709, 12.87864232, 13.53296976],\n",
       "        [12.65748822, 12.71283411, 13.0078188 ],\n",
       "        [11.75906989, 12.182005  , 12.4856982 ],\n",
       "        [12.02731043, 12.30705409, 12.6180171 ],\n",
       "        [ 8.32592125,  8.07982082,  7.84643132],\n",
       "        [12.48335477, 12.49013143, 12.77879614],\n",
       "        [ 9.13148913,  9.52151701,  9.67791742],\n",
       "        [10.04184972, 10.44599534, 10.39145808],\n",
       "        [ 9.88763422,  9.91945047, 10.00005574],\n",
       "        [ 8.41477655,  7.82173108,  7.61873143],\n",
       "        [10.62171642, 11.13234559, 11.13498695],\n",
       "        [11.13205888, 11.29067825, 11.6333417 ],\n",
       "        [12.83162167, 12.93553679, 13.23684146],\n",
       "        [11.58452462, 11.68410416, 12.29710319],\n",
       "        [11.0102621 , 11.34244741, 11.29051399],\n",
       "        [12.40494216, 12.44961905, 12.7334195 ],\n",
       "        [11.38270147, 11.41551704, 11.62854907],\n",
       "        [12.57913504, 12.76326255, 13.31607098],\n",
       "        [12.87500584, 12.84325526, 13.53429252],\n",
       "        [11.7967919 , 12.18262276, 12.87402077],\n",
       "        [10.95792543, 11.06797557, 11.40431904],\n",
       "        [10.01421946, 10.49105172, 10.30555544],\n",
       "        [12.75326849, 12.98596523, 13.54509364],\n",
       "        [ 9.16651612,  9.12577732,  9.244403  ],\n",
       "        [10.6844331 , 10.78249034, 11.141004  ],\n",
       "        [12.51791   , 12.97629591, 13.62967352],\n",
       "        [12.43788364, 12.65593964, 13.30394711],\n",
       "        [12.83162167, 12.93553679, 13.23684146],\n",
       "        [ 9.60006117, 10.0519751 , 10.15917087],\n",
       "        [11.83343409, 12.59526056, 12.90229612],\n",
       "        [10.37805873, 10.38162533, 10.66079017],\n",
       "        [11.66812958, 11.79411187, 12.11984715],\n",
       "        [12.97436472, 12.90603782, 13.56858491],\n",
       "        [12.09123049, 12.49037817, 13.12625156],\n",
       "        [12.42069607, 12.4023939 , 12.94496793],\n",
       "        [ 8.82511476,  9.120652  ,  9.19770359],\n",
       "        [12.88550941, 13.16412756, 13.79628481],\n",
       "        [12.65748822, 12.71283411, 13.0078188 ],\n",
       "        [11.58493644, 11.95930232, 12.25667554]]),\n",
       "      G1  G2  G3\n",
       " 283   9  11  10\n",
       " 219   8   9   8\n",
       " 270  14  15  15\n",
       " 178   8   8   8\n",
       " 334  14  15  15\n",
       " ..   ..  ..  ..\n",
       " 46   13  12  13\n",
       " 605   5   0   0\n",
       " 348  16  16  16\n",
       " 20   12  13  14\n",
       " 606  18  18  18\n",
       " \n",
       " [130 rows x 3 columns])"
      ]
     },
     "execution_count": 98,
     "metadata": {},
     "output_type": "execute_result"
    }
   ],
   "source": [
    "model.score(X_test,y_test)\n",
    "model.predict(X_test),y_test"
   ]
  },
  {
   "cell_type": "code",
   "execution_count": 99,
   "metadata": {},
   "outputs": [
    {
     "data": {
      "text/plain": [
       "KNeighborsRegressor()"
      ]
     },
     "execution_count": 99,
     "metadata": {},
     "output_type": "execute_result"
    }
   ],
   "source": [
    "model = KNeighborsRegressor()\n",
    "model.fit(X_train,y_train)"
   ]
  },
  {
   "cell_type": "code",
   "execution_count": 100,
   "metadata": {},
   "outputs": [
    {
     "data": {
      "text/plain": [
       "0.043328973329727995"
      ]
     },
     "execution_count": 100,
     "metadata": {},
     "output_type": "execute_result"
    }
   ],
   "source": [
    "model.score(X_test,y_test)"
   ]
  },
  {
   "cell_type": "code",
   "execution_count": 101,
   "metadata": {},
   "outputs": [
    {
     "data": {
      "text/plain": [
       "-0.493806184208966"
      ]
     },
     "execution_count": 101,
     "metadata": {},
     "output_type": "execute_result"
    }
   ],
   "source": [
    "from sklearn.tree import DecisionTreeRegressor\n",
    "model = DecisionTreeRegressor()\n",
    "model.fit(X_train,y_train)\n",
    "model.score(X_test,y_test)"
   ]
  },
  {
   "cell_type": "code",
   "execution_count": null,
   "metadata": {},
   "outputs": [],
   "source": []
  }
 ],
 "metadata": {
  "interpreter": {
   "hash": "7cf1e8d34b7fb7b97986f7da8483a2d10cae86db75866dfaffeaa54320f75b01"
  },
  "kernelspec": {
   "display_name": "Python 3.9.7 ('base')",
   "language": "python",
   "name": "python3"
  },
  "language_info": {
   "codemirror_mode": {
    "name": "ipython",
    "version": 3
   },
   "file_extension": ".py",
   "mimetype": "text/x-python",
   "name": "python",
   "nbconvert_exporter": "python",
   "pygments_lexer": "ipython3",
   "version": "3.9.7"
  },
  "orig_nbformat": 4
 },
 "nbformat": 4,
 "nbformat_minor": 2
}
